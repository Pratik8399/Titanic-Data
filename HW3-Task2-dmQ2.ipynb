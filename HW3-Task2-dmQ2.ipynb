{
 "cells": [
  {
   "cell_type": "markdown",
   "id": "0eb1acc4",
   "metadata": {},
   "source": [
    "# Task 2"
   ]
  },
  {
   "cell_type": "markdown",
   "id": "f5c2af5d",
   "metadata": {},
   "source": [
    "# Name - Pratik Kale\n",
    "# ASU ID- 1233009040"
   ]
  },
  {
   "cell_type": "code",
   "execution_count": null,
   "id": "4687b160",
   "metadata": {
    "scrolled": true
   },
   "outputs": [],
   "source": [
    "import os\n",
    "#%pip install scikit-surprise\n",
    "import matplotlib.pyplot as plt\n",
    "import numpy as np\n",
    "import pandas as pd\n",
    "from IPython.display import display, Markdown\n",
    "\n",
    "from surprise import Dataset \n",
    "from surprise import Reader\n",
    "from surprise.model_selection import train_test_split, cross_validate\n",
    "from surprise import accuracy\n",
    "from surprise import SVD, KNNBasic\n",
    "from sklearn.metrics import confusion_matrix, precision_score, recall_score,classification_report\n",
    "import warnings\n",
    "warnings.filterwarnings('ignore')"
   ]
  },
  {
   "cell_type": "code",
   "execution_count": null,
   "id": "d3dd2bfa",
   "metadata": {},
   "outputs": [],
   "source": [
    "pip install scikit-surprise"
   ]
  },
  {
   "cell_type": "markdown",
   "id": "5b3121f4",
   "metadata": {},
   "source": [
    "## Part-2"
   ]
  },
  {
   "cell_type": "code",
   "execution_count": null,
   "id": "441fde4b",
   "metadata": {},
   "outputs": [],
   "source": [
    "data = pd.read_csv('ratings_small.csv')\n",
    "data.sample(5)"
   ]
  },
  {
   "cell_type": "markdown",
   "id": "f432eb07",
   "metadata": {},
   "source": [
    "## Part-3"
   ]
  },
  {
   "cell_type": "code",
   "execution_count": null,
   "id": "4582bd20",
   "metadata": {},
   "outputs": [],
   "source": [
    "data = data.drop('timestamp', axis=1)"
   ]
  },
  {
   "cell_type": "code",
   "execution_count": null,
   "id": "204b3562",
   "metadata": {},
   "outputs": [],
   "source": [
    "data.shape"
   ]
  },
  {
   "cell_type": "code",
   "execution_count": null,
   "id": "f10d01e7",
   "metadata": {},
   "outputs": [],
   "source": [
    "data.sample(5)"
   ]
  },
  {
   "cell_type": "code",
   "execution_count": null,
   "id": "d53d19f3",
   "metadata": {},
   "outputs": [],
   "source": [
    "reader = Reader(rating_scale=(1, 5))\n",
    "ratings = Dataset.load_from_df(data, reader)"
   ]
  },
  {
   "cell_type": "code",
   "execution_count": null,
   "id": "74df42dc",
   "metadata": {},
   "outputs": [],
   "source": [
    "type(ratings)"
   ]
  },
  {
   "cell_type": "markdown",
   "id": "fb428714",
   "metadata": {},
   "source": [
    "## 3(c) Compute the average MAE and RMSE of the Probabilistic Matrix Factorization (PMF), User based Collaborative Filtering, Item based Collaborative Filtering, under the 5-folds cross-validation (10 points)"
   ]
  },
  {
   "cell_type": "markdown",
   "id": "6ceff997",
   "metadata": {},
   "source": [
    "### Use Probabilistic Matrix Factorization(PMF)"
   ]
  },
  {
   "cell_type": "code",
   "execution_count": null,
   "id": "2f720848",
   "metadata": {},
   "outputs": [],
   "source": [
    "model_pmf = SVD()\n",
    "model_pmf_cv = cross_validate(model_pmf, ratings, measures=['RMSE', 'MAE'], cv = 5, verbose=True)"
   ]
  },
  {
   "cell_type": "code",
   "execution_count": null,
   "id": "d8da1340",
   "metadata": {},
   "outputs": [],
   "source": [
    "avg_pmf_rmse = np.average(model_pmf_cv['test_rmse'])\n",
    "avg_pmf_mae = np.average(model_pmf_cv['test_mae'])\n",
    "print('Average of RMSE for Probabilistic Matrix Factorization(PMF) = ', avg_pmf_rmse)\n",
    "print('Average of MAE for Probabilistic Matrix Factorization(PMF) = ', avg_pmf_mae)"
   ]
  },
  {
   "cell_type": "markdown",
   "id": "23eaeed7",
   "metadata": {},
   "source": [
    "### Use User-based collaborative filtering (UCF)"
   ]
  },
  {
   "cell_type": "code",
   "execution_count": null,
   "id": "e1f6af00",
   "metadata": {},
   "outputs": [],
   "source": [
    "sim_options = {'name': 'cosine', 'user_based': True}\n",
    "model_ucf = KNNBasic(sim_options=sim_options)\n",
    "model_ucf_cv = cross_validate(model_ucf, ratings, measures=['RMSE', 'MAE'], cv = 5, verbose=True)"
   ]
  },
  {
   "cell_type": "code",
   "execution_count": null,
   "id": "e3d558a5",
   "metadata": {},
   "outputs": [],
   "source": [
    "avg_ucf_rmse = np.average(model_ucf_cv['test_rmse'])\n",
    "avg_ucf_mae = np.average(model_ucf_cv['test_mae'])\n",
    "text_1 = f\"Average of RMSE for User-based collaborative filtering (UCF) = {avg_ucf_rmse}<br>Average of MAE for User-based collaborative filtering (UCF) = {avg_ucf_mae}<br>\"\n",
    "\n",
    "display(Markdown(text_1))"
   ]
  },
  {
   "cell_type": "markdown",
   "id": "3fa86e3f",
   "metadata": {},
   "source": [
    "## Use Item-based collaborative filtering (ICF)"
   ]
  },
  {
   "cell_type": "code",
   "execution_count": null,
   "id": "2468d2aa",
   "metadata": {},
   "outputs": [],
   "source": [
    "sim_options = {'name': 'cosine', 'user_based': False}\n",
    "model_icf = KNNBasic(sim_options=sim_options)\n",
    "model_icf_cv = cross_validate(model_icf, ratings, measures=['RMSE', 'MAE'], cv = 5, verbose=True)"
   ]
  },
  {
   "cell_type": "code",
   "execution_count": null,
   "id": "5ae01cf6",
   "metadata": {},
   "outputs": [],
   "source": [
    "avg_icf_rmse = np.average(model_icf_cv['test_rmse'])\n",
    "avg_icf_mae = np.average(model_icf_cv['test_mae'])\n",
    "print('Average of RMSE for Item-based collaborative filtering (ICF) =', avg_icf_rmse)\n",
    "print('Average of MAE for Item-based collaborative filtering (ICF) =', avg_icf_mae)"
   ]
  },
  {
   "cell_type": "markdown",
   "id": "19a6e14b",
   "metadata": {},
   "source": [
    "### 3(d) Compare the average (mean) performances of User-based collaborative filtering, item-based collaborative filtering, PMF with respect to RMSE and MAE. Which ML model is the best in the movie rating data? (10 points"
   ]
  },
  {
   "cell_type": "code",
   "execution_count": null,
   "id": "3174153f",
   "metadata": {},
   "outputs": [],
   "source": [
    "text = f\"\"\"|Algo|Mean RMSE|Mean MAE|\n",
    "|----|---------|--------|\n",
    "|Probability Matrix Factorization|{avg_pmf_rmse}|{avg_pmf_mae}|\n",
    "|User-based collaborative filtering|{avg_ucf_rmse}|{avg_ucf_mae}|\n",
    "|Item-based collaborative filtering|{avg_icf_rmse}|{avg_icf_mae}|\"\"\"\n",
    "display(Markdown(text))"
   ]
  },
  {
   "cell_type": "markdown",
   "id": "d0b8f4d8",
   "metadata": {},
   "source": [
    "Looking at the table, we see User-based collaborative filtering and Item-based collaborative filtering are pretty similar in performance.\n",
    "\n",
    "But on pure numbers perspective, Item-based collaborative filtering is the better model for movie rating data for both RMSE and MAE"
   ]
  },
  {
   "cell_type": "markdown",
   "id": "cb58f419",
   "metadata": {},
   "source": [
    "## 3(e) Examine how the cosine, MSD (Mean Squared Difference), and Pearson similarities impact the performances of User based Collaborative Filtering and Item based Collaborative Filtering. Plot your results. Is the impact of the three metrics on User based Collaborative Filtering consistent with the impact of the three metrics on Item based Collaborative Filtering? (10 points)"
   ]
  },
  {
   "cell_type": "code",
   "execution_count": null,
   "id": "38270079",
   "metadata": {},
   "outputs": [],
   "source": [
    "# Item-based collaborative filtering\n",
    "sim_options_cosine = {\n",
    "    \"name\": 'cosine',\n",
    "    'user_based': False\n",
    "}\n",
    "\n",
    "sim_options_msd = {\n",
    "    \"name\": 'msd',\n",
    "    'user_based': False\n",
    "}\n",
    "\n",
    "sim_options_pearson = {\n",
    "    \"name\": 'pearson',\n",
    "    'user_based': False\n",
    "}"
   ]
  },
  {
   "cell_type": "code",
   "execution_count": null,
   "id": "94ccf56f",
   "metadata": {},
   "outputs": [],
   "source": [
    "model_icf_cosine = KNNBasic(sim_options=sim_options_cosine)\n",
    "model_icf_cosine_cv = cross_validate(algo=model_icf_cosine, data=ratings, measures=['RMSE'], cv=5, verbose=True)\n",
    "\n",
    "model_icf_msd = KNNBasic(sim_options=sim_options_msd)\n",
    "model_icf_msd_cv = cross_validate(algo=model_icf_msd, data=ratings, measures=['RMSE'], cv=5, verbose=True)\n",
    "\n",
    "model_icf_pearson = KNNBasic(sim_options=sim_options_pearson)\n",
    "model_icf_pearson_cv = cross_validate(algo=model_icf_pearson, data=ratings, measures=['RMSE'], cv=5, verbose=True)\n",
    "\n",
    "avg_model_icf_cosine_cv = np.average(model_icf_cosine_cv['test_rmse'])\n",
    "avg_model_icf_msd_cv = np.average(model_icf_msd_cv['test_rmse'])\n",
    "avg_model_icf_pearson_cv = np.average(model_icf_pearson_cv['test_rmse'])"
   ]
  },
  {
   "cell_type": "code",
   "execution_count": null,
   "id": "d8c2caab",
   "metadata": {},
   "outputs": [],
   "source": [
    "# User-based collaborative filtering\n",
    "sim_options_cosine = {\n",
    "    \"name\": 'cosine',\n",
    "    'user_based': True\n",
    "}\n",
    "\n",
    "sim_options_msd = {\n",
    "    \"name\": 'msd',\n",
    "    'user_based': True\n",
    "}\n",
    "\n",
    "sim_options_pearson = {\n",
    "    \"name\": 'pearson',\n",
    "    'user_based': True\n",
    "}"
   ]
  },
  {
   "cell_type": "code",
   "execution_count": null,
   "id": "d371e742",
   "metadata": {},
   "outputs": [],
   "source": [
    "model_ucf_cosine = KNNBasic(sim_options=sim_options_cosine)\n",
    "model_ucf_cosine_cv = cross_validate(algo=model_ucf_cosine, data=ratings, measures=['RMSE'], cv=5, verbose=True)\n",
    "\n",
    "model_ucf_msd = KNNBasic(sim_options=sim_options_msd)\n",
    "model_ucf_msd_cv = cross_validate(algo=model_ucf_msd, data=ratings, measures=['RMSE'], cv=5, verbose=True)\n",
    "\n",
    "model_ucf_pearson = KNNBasic(sim_options=sim_options_pearson)\n",
    "model_ucf_pearson_cv = cross_validate(algo=model_ucf_pearson, data=ratings, measures=['RMSE'], cv=5, verbose=True)\n",
    "\n",
    "avg_model_ucf_cosine_cv = np.average(model_ucf_cosine_cv['test_rmse'])\n",
    "avg_model_ucf_msd_cv = np.average(model_ucf_msd_cv['test_rmse'])\n",
    "avg_model_ucf_pearson_cv = np.average(model_ucf_pearson_cv['test_rmse'])"
   ]
  },
  {
   "cell_type": "code",
   "execution_count": null,
   "id": "c3184c01",
   "metadata": {
    "scrolled": true
   },
   "outputs": [],
   "source": [
    "final_res = {\n",
    "    'RMSE Cosine Similarity - UCF': avg_model_ucf_cosine_cv,\n",
    "    'RMSE Pearson Similarity - UCF': avg_model_ucf_pearson_cv,\n",
    "    'RMSE MSD Similarity - UCF': avg_model_ucf_msd_cv,\n",
    "    'RMSE Cosine Similarity - ICF': avg_model_icf_cosine_cv,\n",
    "    'RMSE Pearson Similarity - ICF': avg_model_icf_pearson_cv,\n",
    "    'RMSE MSD Similarity - ICF': avg_model_icf_msd_cv\n",
    "}\n",
    "\n",
    "fig, ax = plt.subplots(figsize=(10, 6))\n",
    "bars = ax.barh(\n",
    "    list(final_res.keys()), list(final_res.values()),\n",
    "    color='maroon',\n",
    "    label=list(final_res.values())\n",
    ")\n",
    "for bar in bars:\n",
    "    plt.text(bar.get_width(), bar.get_y() + bar.get_height() / 2, f'{bar.get_width():.4f}', \n",
    "             va='center', ha='left', fontsize=8, color='black')\n",
    "\n",
    "ax.set_xlabel('RMSE Values')\n",
    "ax.set_title('RMSE for Different Similarity Metrics and Collaborative Filtering Methods')\n",
    "plt.show()"
   ]
  },
  {
   "cell_type": "code",
   "execution_count": null,
   "id": "94a1fac4",
   "metadata": {},
   "outputs": [],
   "source": [
    "text = \"\"\n",
    "text += f\"Looking at the graph above Item CF ({avg_model_icf_msd_cv}) achieves **lower RMSE**\"\n",
    "text += f\" Accuracy than User CF ({avg_model_ucf_msd_cv}) for **MSD** similarity measure, **lower RMSE** Accuracy({avg_model_icf_pearson_cv})\"\n",
    "text += f\" than User CF ({avg_model_ucf_pearson_cv}) for **Pearson similarity measure** and higher RMSE Accuracy({avg_model_icf_cosine_cv})\"\n",
    "text += f\" than User CF({avg_model_ucf_cosine_cv}) for **Cosine** similarity measure.\"\n",
    "\n",
    "display(Markdown(text))"
   ]
  },
  {
   "cell_type": "markdown",
   "id": "55a9c9b5",
   "metadata": {},
   "source": [
    "While the difference is not significant for Pearson and Cosine, but looking at the pure numbers, the impact of the 3 metrics is not significantly consistent between User-based collaborative filtering and Item-based collaborative filtering."
   ]
  },
  {
   "cell_type": "markdown",
   "id": "ac4fb51d",
   "metadata": {},
   "source": [
    "## 3(f) Examine how the number of neighbors impacts the performances of User based Collaborative Filtering and Item based Collaborative Filtering? Plot your results. "
   ]
  },
  {
   "cell_type": "code",
   "execution_count": null,
   "id": "afb5402c",
   "metadata": {},
   "outputs": [],
   "source": [
    "k_values = np.arange(5, 41, 5)\n",
    "\n",
    "def evaluate_rmse_for_different_k(model: KNNBasic, data: any):\n",
    "    cv_results = cross_validate(model, data, measures=['RMSE'], cv=5)\n",
    "    return np.average(cv_results['test_rmse'])\n",
    "    \n",
    "sim_options_icf = {\n",
    "    \"name\": 'cosine',\n",
    "    \"user_based\": False\n",
    "}\n",
    "\n",
    "sim_options_ucf = {\n",
    "    \"name\": 'cosine',\n",
    "    'user_based': True\n",
    "}\n",
    "\n",
    "results = {}\n",
    "for k_val in k_values:\n",
    "    model_icf = KNNBasic(k=k_val, sim_options=sim_options_icf)\n",
    "    model_ucf = KNNBasic(k=k_val, sim_options=sim_options_ucf)\n",
    "    \n",
    "    acc_icf_rmse = evaluate_rmse_for_different_k(model=model_icf, data=ratings)\n",
    "    acc_ucf_rmse = evaluate_rmse_for_different_k(model=model_ucf, data=ratings)\n",
    "    results[k_val] = (acc_icf_rmse, acc_ucf_rmse)"
   ]
  },
  {
   "cell_type": "code",
   "execution_count": null,
   "id": "76dbc925",
   "metadata": {},
   "outputs": [],
   "source": [
    "fig, ax = plt.subplots()\n",
    "X = list(results.keys())\n",
    "X_axis = np.arange(len(X))\n",
    "bar1 = ax.bar(X_axis - 0.2, [x[0] for x in results.values()], width = 0.4, label='Item-based CF')\n",
    "bar2 = ax.bar(X_axis + 0.2, [x[1] for x in results.values()], width = 0.4, label='User-based CF')\n",
    "\n",
    "ax.set_xticks(X_axis, X)\n",
    "ax.legend()\n",
    "plt.show()\n",
    "print(results)"
   ]
  },
  {
   "cell_type": "markdown",
   "id": "22948030",
   "metadata": {},
   "source": [
    "Examining the graph, we observe a consistent accuracy gap between Item-based Collaborative Filtering (ICF) and User-based Collaborative Filtering (UCF), with ICF consistently outperforming UCF. The number of neighbors does not appear to significantly impact the consistency of performance. However, it is notable that the RMSE accuracy keeps reducing after K value is computed."
   ]
  },
  {
   "cell_type": "markdown",
   "id": "d8281b31",
   "metadata": {},
   "source": [
    "## 3(g) Identify the best number of neighbor (denoted by K) for User/Item based collaborative filtering in terms of RMSE. Is the best K of User based collaborative filtering the same with the best K of Item based collaborative filtering? (10 points)"
   ]
  },
  {
   "cell_type": "code",
   "execution_count": null,
   "id": "5e37fde4",
   "metadata": {},
   "outputs": [],
   "source": [
    "k_for_min_ucf_rmse = min(results, key=lambda x : results[x][1])\n",
    "k_for_min_icf_rmse = min(results, key=lambda x : results[x][0])\n",
    "text = \"\"\n",
    "text += f\"K = {k_for_min_icf_rmse} has the lowest RMSE so is the best number of neighbors for Item based collaborative filtering.\"\n",
    "text += f\" K = {k_for_min_ucf_rmse} is the lowest RMSE and best number of neighbors for User-based collaborative filtering.\"\n",
    "display(Markdown(text))"
   ]
  },
  {
   "cell_type": "markdown",
   "id": "9c8f34db",
   "metadata": {},
   "source": [
    "No, the best K of User based collaborative filtering is not the same with the best K of Item based collaborative filtering."
   ]
  },
  {
   "cell_type": "code",
   "execution_count": null,
   "id": "9830167c",
   "metadata": {},
   "outputs": [],
   "source": []
  },
  {
   "cell_type": "code",
   "execution_count": null,
   "id": "86c3db61",
   "metadata": {},
   "outputs": [],
   "source": []
  }
 ],
 "metadata": {
  "kernelspec": {
   "display_name": "Python 3 (ipykernel)",
   "language": "python",
   "name": "python3"
  },
  "language_info": {
   "codemirror_mode": {
    "name": "ipython",
    "version": 3
   },
   "file_extension": ".py",
   "mimetype": "text/x-python",
   "name": "python",
   "nbconvert_exporter": "python",
   "pygments_lexer": "ipython3",
   "version": "3.9.7"
  }
 },
 "nbformat": 4,
 "nbformat_minor": 5
}
